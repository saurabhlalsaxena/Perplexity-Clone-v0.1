{
  "nbformat": 4,
  "nbformat_minor": 0,
  "metadata": {
    "colab": {
      "provenance": [],
      "authorship_tag": "ABX9TyOiyIdLItr/tMuDqNS2hngd",
      "include_colab_link": true
    },
    "kernelspec": {
      "name": "python3",
      "display_name": "Python 3"
    },
    "language_info": {
      "name": "python"
    }
  },
  "cells": [
    {
      "cell_type": "markdown",
      "metadata": {
        "id": "view-in-github",
        "colab_type": "text"
      },
      "source": [
        "<a href=\"https://colab.research.google.com/github/saurabhlalsaxena/Perplexity-Clone-v0.1/blob/main/LangChain_Perpexity_Clone_with_human_in_the_loop.ipynb\" target=\"_parent\"><img src=\"https://colab.research.google.com/assets/colab-badge.svg\" alt=\"Open In Colab\"/></a>"
      ]
    },
    {
      "cell_type": "markdown",
      "source": [
        "# Setup"
      ],
      "metadata": {
        "id": "N6QitVkoGOCe"
      }
    },
    {
      "cell_type": "code",
      "execution_count": 1,
      "metadata": {
        "colab": {
          "base_uri": "https://localhost:8080/"
        },
        "id": "gKwOb9OPGEtm",
        "outputId": "45867e4d-c1c9-4f80-e265-eb7129b296a5"
      },
      "outputs": [
        {
          "output_type": "stream",
          "name": "stdout",
          "text": [
            "\u001b[2K     \u001b[90m━━━━━━━━━━━━━━━━━━━━━━━━━━━━━━━━━━━━━━━━\u001b[0m \u001b[32m50.4/50.4 kB\u001b[0m \u001b[31m1.2 MB/s\u001b[0m eta \u001b[36m0:00:00\u001b[0m\n",
            "\u001b[2K   \u001b[90m━━━━━━━━━━━━━━━━━━━━━━━━━━━━━━━━━━━━━━━━\u001b[0m \u001b[32m110.1/110.1 kB\u001b[0m \u001b[31m6.7 MB/s\u001b[0m eta \u001b[36m0:00:00\u001b[0m\n",
            "\u001b[2K   \u001b[90m━━━━━━━━━━━━━━━━━━━━━━━━━━━━━━━━━━━━━━━━\u001b[0m \u001b[32m997.8/997.8 kB\u001b[0m \u001b[31m25.1 MB/s\u001b[0m eta \u001b[36m0:00:00\u001b[0m\n",
            "\u001b[2K   \u001b[90m━━━━━━━━━━━━━━━━━━━━━━━━━━━━━━━━━━━━━━━━\u001b[0m \u001b[32m391.5/391.5 kB\u001b[0m \u001b[31m22.4 MB/s\u001b[0m eta \u001b[36m0:00:00\u001b[0m\n",
            "\u001b[2K   \u001b[90m━━━━━━━━━━━━━━━━━━━━━━━━━━━━━━━━━━━━━━━━\u001b[0m \u001b[32m81.8/81.8 kB\u001b[0m \u001b[31m5.3 MB/s\u001b[0m eta \u001b[36m0:00:00\u001b[0m\n",
            "\u001b[2K   \u001b[90m━━━━━━━━━━━━━━━━━━━━━━━━━━━━━━━━━━━━━━━━\u001b[0m \u001b[32m2.3/2.3 MB\u001b[0m \u001b[31m62.8 MB/s\u001b[0m eta \u001b[36m0:00:00\u001b[0m\n",
            "\u001b[2K   \u001b[90m━━━━━━━━━━━━━━━━━━━━━━━━━━━━━━━━━━━━━━━━\u001b[0m \u001b[32m207.3/207.3 kB\u001b[0m \u001b[31m13.0 MB/s\u001b[0m eta \u001b[36m0:00:00\u001b[0m\n",
            "\u001b[2K   \u001b[90m━━━━━━━━━━━━━━━━━━━━━━━━━━━━━━━━━━━━━━━━\u001b[0m \u001b[32m1.2/1.2 MB\u001b[0m \u001b[31m48.8 MB/s\u001b[0m eta \u001b[36m0:00:00\u001b[0m\n",
            "\u001b[2K   \u001b[90m━━━━━━━━━━━━━━━━━━━━━━━━━━━━━━━━━━━━━━━━\u001b[0m \u001b[32m140.4/140.4 kB\u001b[0m \u001b[31m8.3 MB/s\u001b[0m eta \u001b[36m0:00:00\u001b[0m\n",
            "\u001b[2K   \u001b[90m━━━━━━━━━━━━━━━━━━━━━━━━━━━━━━━━━━━━━━━━\u001b[0m \u001b[32m2.3/2.3 MB\u001b[0m \u001b[31m60.2 MB/s\u001b[0m eta \u001b[36m0:00:00\u001b[0m\n",
            "\u001b[2K   \u001b[90m━━━━━━━━━━━━━━━━━━━━━━━━━━━━━━━━━━━━━━━━\u001b[0m \u001b[32m46.0/46.0 kB\u001b[0m \u001b[31m2.7 MB/s\u001b[0m eta \u001b[36m0:00:00\u001b[0m\n",
            "\u001b[2K   \u001b[90m━━━━━━━━━━━━━━━━━━━━━━━━━━━━━━━━━━━━━━━━\u001b[0m \u001b[32m59.5/59.5 kB\u001b[0m \u001b[31m3.3 MB/s\u001b[0m eta \u001b[36m0:00:00\u001b[0m\n",
            "\u001b[2K   \u001b[90m━━━━━━━━━━━━━━━━━━━━━━━━━━━━━━━━━━━━━━━━\u001b[0m \u001b[32m93.2/93.2 kB\u001b[0m \u001b[31m5.8 MB/s\u001b[0m eta \u001b[36m0:00:00\u001b[0m\n",
            "\u001b[2K   \u001b[90m━━━━━━━━━━━━━━━━━━━━━━━━━━━━━━━━━━━━━━━━\u001b[0m \u001b[32m62.7/62.7 kB\u001b[0m \u001b[31m3.7 MB/s\u001b[0m eta \u001b[36m0:00:00\u001b[0m\n",
            "\u001b[2K   \u001b[90m━━━━━━━━━━━━━━━━━━━━━━━━━━━━━━━━━━━━━━━━\u001b[0m \u001b[32m58.3/58.3 kB\u001b[0m \u001b[31m3.1 MB/s\u001b[0m eta \u001b[36m0:00:00\u001b[0m\n",
            "\u001b[2K   \u001b[90m━━━━━━━━━━━━━━━━━━━━━━━━━━━━━━━━━━━━━━━━\u001b[0m \u001b[32m75.6/75.6 kB\u001b[0m \u001b[31m4.2 MB/s\u001b[0m eta \u001b[36m0:00:00\u001b[0m\n",
            "\u001b[2K   \u001b[90m━━━━━━━━━━━━━━━━━━━━━━━━━━━━━━━━━━━━━━━━\u001b[0m \u001b[32m77.9/77.9 kB\u001b[0m \u001b[31m4.8 MB/s\u001b[0m eta \u001b[36m0:00:00\u001b[0m\n",
            "\u001b[2K   \u001b[90m━━━━━━━━━━━━━━━━━━━━━━━━━━━━━━━━━━━━━━━━\u001b[0m \u001b[32m49.2/49.2 kB\u001b[0m \u001b[31m2.6 MB/s\u001b[0m eta \u001b[36m0:00:00\u001b[0m\n",
            "\u001b[2K   \u001b[90m━━━━━━━━━━━━━━━━━━━━━━━━━━━━━━━━━━━━━━━━\u001b[0m \u001b[32m141.9/141.9 kB\u001b[0m \u001b[31m7.5 MB/s\u001b[0m eta \u001b[36m0:00:00\u001b[0m\n",
            "\u001b[2K   \u001b[90m━━━━━━━━━━━━━━━━━━━━━━━━━━━━━━━━━━━━━━━━\u001b[0m \u001b[32m72.0/72.0 kB\u001b[0m \u001b[31m4.3 MB/s\u001b[0m eta \u001b[36m0:00:00\u001b[0m\n",
            "\u001b[?25h"
          ]
        }
      ],
      "source": [
        "!pip install -q -U langchain-cli langchain langchain_core langgraph langchain_community"
      ]
    },
    {
      "cell_type": "code",
      "source": [
        "!pip install -q langchainhub"
      ],
      "metadata": {
        "id": "ZFQX3hqxGaTj"
      },
      "execution_count": 2,
      "outputs": []
    },
    {
      "cell_type": "code",
      "source": [
        "!pip install -q openai langchain_openai langchain-anthropic langchain-mistralai"
      ],
      "metadata": {
        "colab": {
          "base_uri": "https://localhost:8080/"
        },
        "id": "pvOkeptcGcPv",
        "outputId": "8f3b4ec1-b8f1-4e54-8ed3-bd5bc1690103"
      },
      "execution_count": 3,
      "outputs": [
        {
          "output_type": "stream",
          "name": "stdout",
          "text": [
            "\u001b[?25l   \u001b[90m━━━━━━━━━━━━━━━━━━━━━━━━━━━━━━━━━━━━━━━━\u001b[0m \u001b[32m0.0/362.4 kB\u001b[0m \u001b[31m?\u001b[0m eta \u001b[36m-:--:--\u001b[0m\r\u001b[2K   \u001b[90m━━━━━━━━━━━━━━━━━━━━━━━━━━━━━━━━━━━━━━━━\u001b[0m \u001b[32m362.4/362.4 kB\u001b[0m \u001b[31m10.7 MB/s\u001b[0m eta \u001b[36m0:00:00\u001b[0m\n",
            "\u001b[?25h\u001b[?25l   \u001b[90m━━━━━━━━━━━━━━━━━━━━━━━━━━━━━━━━━━━━━━━━\u001b[0m \u001b[32m0.0/52.0 kB\u001b[0m \u001b[31m?\u001b[0m eta \u001b[36m-:--:--\u001b[0m\r\u001b[2K   \u001b[90m━━━━━━━━━━━━━━━━━━━━━━━━━━━━━━━━━━━━━━━━\u001b[0m \u001b[32m52.0/52.0 kB\u001b[0m \u001b[31m3.3 MB/s\u001b[0m eta \u001b[36m0:00:00\u001b[0m\n",
            "\u001b[2K   \u001b[90m━━━━━━━━━━━━━━━━━━━━━━━━━━━━━━━━━━━━━━━━\u001b[0m \u001b[32m891.5/891.5 kB\u001b[0m \u001b[31m31.7 MB/s\u001b[0m eta \u001b[36m0:00:00\u001b[0m\n",
            "\u001b[2K   \u001b[90m━━━━━━━━━━━━━━━━━━━━━━━━━━━━━━━━━━━━━━━━\u001b[0m \u001b[32m318.9/318.9 kB\u001b[0m \u001b[31m15.7 MB/s\u001b[0m eta \u001b[36m0:00:00\u001b[0m\n",
            "\u001b[2K   \u001b[90m━━━━━━━━━━━━━━━━━━━━━━━━━━━━━━━━━━━━━━━━\u001b[0m \u001b[32m1.1/1.1 MB\u001b[0m \u001b[31m34.3 MB/s\u001b[0m eta \u001b[36m0:00:00\u001b[0m\n",
            "\u001b[?25h"
          ]
        }
      ]
    },
    {
      "cell_type": "code",
      "source": [
        "!pip install -q duckduckgo-search"
      ],
      "metadata": {
        "colab": {
          "base_uri": "https://localhost:8080/"
        },
        "id": "w7jeTbiEGrSa",
        "outputId": "691dba50-6d11-4491-d493-a06fe451bdea"
      },
      "execution_count": 4,
      "outputs": [
        {
          "output_type": "stream",
          "name": "stdout",
          "text": [
            "\u001b[?25l   \u001b[90m━━━━━━━━━━━━━━━━━━━━━━━━━━━━━━━━━━━━━━━━\u001b[0m \u001b[32m0.0/2.8 MB\u001b[0m \u001b[31m?\u001b[0m eta \u001b[36m-:--:--\u001b[0m\r\u001b[2K   \u001b[91m━━━━━━━━━━━━━━━━━━━━━━━━━━━━━━━━━\u001b[0m\u001b[90m╺\u001b[0m\u001b[90m━━━━━━\u001b[0m \u001b[32m2.3/2.8 MB\u001b[0m \u001b[31m70.2 MB/s\u001b[0m eta \u001b[36m0:00:01\u001b[0m\r\u001b[2K   \u001b[90m━━━━━━━━━━━━━━━━━━━━━━━━━━━━━━━━━━━━━━━━\u001b[0m \u001b[32m2.8/2.8 MB\u001b[0m \u001b[31m48.1 MB/s\u001b[0m eta \u001b[36m0:00:00\u001b[0m\n",
            "\u001b[?25h"
          ]
        }
      ]
    },
    {
      "cell_type": "code",
      "source": [
        "!pip install -q html2text beautifulsoup4"
      ],
      "metadata": {
        "colab": {
          "base_uri": "https://localhost:8080/"
        },
        "id": "JAZSUimcGtZi",
        "outputId": "ca7f2aeb-5234-4606-fcf7-eab21e4606c3"
      },
      "execution_count": 5,
      "outputs": [
        {
          "output_type": "stream",
          "name": "stdout",
          "text": [
            "\u001b[?25l     \u001b[90m━━━━━━━━━━━━━━━━━━━━━━━━━━━━━━━━━━━━━━━━\u001b[0m \u001b[32m0.0/56.5 kB\u001b[0m \u001b[31m?\u001b[0m eta \u001b[36m-:--:--\u001b[0m\r\u001b[2K     \u001b[90m━━━━━━━━━━━━━━━━━━━━━━━━━━━━━━━━━━━━━━━━\u001b[0m \u001b[32m56.5/56.5 kB\u001b[0m \u001b[31m3.1 MB/s\u001b[0m eta \u001b[36m0:00:00\u001b[0m\n",
            "\u001b[?25h  Preparing metadata (setup.py) ... \u001b[?25l\u001b[?25hdone\n",
            "  Building wheel for html2text (setup.py) ... \u001b[?25l\u001b[?25hdone\n"
          ]
        }
      ]
    },
    {
      "cell_type": "code",
      "source": [
        "%%capture --no-stderr\n",
        "%pip install -U psycopg psycopg-pool"
      ],
      "metadata": {
        "id": "cbH8Nx_fGwZI"
      },
      "execution_count": 6,
      "outputs": []
    },
    {
      "cell_type": "code",
      "source": [
        "%%capture --no-stderr\n",
        "%pip install -U langgraph-checkpoint-postgres"
      ],
      "metadata": {
        "id": "1tWVfzM8GyQN"
      },
      "execution_count": 7,
      "outputs": []
    },
    {
      "cell_type": "code",
      "source": [
        "!pip freeze | grep -E 'langchain|langchain_core|langgraph|langchainhub|openai|langchain_openai|langchain-anthropic|langchain-mistralai|duckduckgo-search|html2text|beautifulsoup4|psycopg|psycopg-pool|langgraph-checkpoint-postgres' > requirements.txt"
      ],
      "metadata": {
        "id": "AQqLXt7GG3ej"
      },
      "execution_count": 8,
      "outputs": []
    },
    {
      "cell_type": "code",
      "source": [
        "import os\n",
        "import openai\n",
        "from google.colab import userdata\n",
        "\n",
        "os.environ[\"OPENAI_API_KEY\"] = userdata.get('OPENAI_API_KEY')\n",
        "os.environ[\"ANTHROPIC_API_KEY\"] = userdata.get('ANTHROPIC_API_KEY')\n",
        "os.environ[\"MISTRAL_API_KEY\"] = userdata.get('MISTRAL_API_KEY')"
      ],
      "metadata": {
        "id": "pmeTOHaEHMsA"
      },
      "execution_count": 9,
      "outputs": []
    },
    {
      "cell_type": "code",
      "source": [
        "os.environ[\"LANGCHAIN_TRACING_V2\"] = \"true\"\n",
        "os.environ[\"LANGCHAIN_API_KEY\"] = userdata.get('LANGCHAIN_API_KEY')\n",
        "os.environ[\"LANGCHAIN_PROJECT\"] = f\"LangChain Perpexity Clone with human in the loop\""
      ],
      "metadata": {
        "id": "3TsUMWl2HQYo"
      },
      "execution_count": 10,
      "outputs": []
    },
    {
      "cell_type": "code",
      "source": [
        "os.environ['USER_AGENT'] = 'myagent'"
      ],
      "metadata": {
        "id": "uHL8k87qLn3k"
      },
      "execution_count": 11,
      "outputs": []
    },
    {
      "cell_type": "markdown",
      "source": [
        "#LangGraph"
      ],
      "metadata": {
        "id": "rThUE4tmHuqI"
      }
    },
    {
      "cell_type": "code",
      "source": [
        "#prompts\n",
        "ADDITIONAL_QUESTION_PROMPT = \"\"\"You are tasked with analyzing a message to determine if it requires additional input from the user.\n",
        "Your goal is to be conservative in asking for additional input, only indicating that more information is needed if it is relevant to answering the question or fulfilling the request in the message.\n",
        "Use the following criteria to guide your decision:\n",
        "- Is the core question or request clearly stated?\n",
        "- Are all necessary details provided to understand the context?\n",
        "- Would additional information significantly change or improve the response?\n",
        "- Is the missing information essential or helpful?\n",
        "\n",
        "Before giving your final answer, think through your analysis in a scratchpad:\n",
        "\n",
        "<scratchpad>\n",
        "Analyze the message here, considering the criteria above. Think step-by-step about whether additional input is truly necessary or if the message can be responded to with the given information.\n",
        "</scratchpad>\n",
        "\n",
        "After your analysis, provide your final answer in the following format:\n",
        "\n",
        "<answer>\n",
        "[YES/NO]: (Choose YES if additional input is required, NO if it is not)\n",
        "Justification: (Briefly explain your reasoning)\n",
        "</answer>\n",
        "Remember to be conservative in asking for additional input. Only say YES if the additional information is highly relevant and necessary to properly address the message.\"\"\"\n",
        "SEARCH_QUERY_PROMPT = \"\"\"You are a helpful AI assistant, create a list of 2-3 search queries based on the message\"\"\"\n",
        "FINAL_NODE_SYSTEM_PROMPT = \"\"\"You are a helpful AI assitant, answer the given question based on the context. Clearly cite the sources for your answer including the links for the sources next to the each point\"\"\"\n",
        "FINAL_NODE_PROMPT = \"\"\"Question: {question}\n",
        "Context: {context}\n",
        "Answer:\"\"\""
      ],
      "metadata": {
        "id": "MwTp9oPcHwIq"
      },
      "execution_count": 70,
      "outputs": []
    },
    {
      "cell_type": "code",
      "source": [
        "#duckduckgo utils\n",
        "import asyncio\n",
        "\n",
        "from duckduckgo_search import AsyncDDGS\n",
        "\n",
        "async def aget_results(word):\n",
        "    results = await AsyncDDGS(proxy=None).atext(word, max_results=2)\n",
        "    return results\n",
        "\n",
        "async def search(queries):\n",
        "    words = queries\n",
        "    tasks = [aget_results(w) for w in words]\n",
        "    results = await asyncio.gather(*tasks)\n",
        "    return results"
      ],
      "metadata": {
        "id": "doNmA3NPH242"
      },
      "execution_count": 71,
      "outputs": []
    },
    {
      "cell_type": "code",
      "source": [
        "#nodes\n",
        "from langgraph.prebuilt import ToolInvocation\n",
        "import json\n",
        "from langchain_core.messages import (\n",
        "    AIMessage,\n",
        "    BaseMessage,\n",
        "    ChatMessage,\n",
        "    FunctionMessage,\n",
        "    HumanMessage,\n",
        ")\n",
        "from langchain_core.prompts import ChatPromptTemplate, MessagesPlaceholder\n",
        "from langchain.chains import create_structured_output_runnable\n",
        "from langchain.agents.agent_types import AgentType\n",
        "from typing import TypedDict, Annotated, Sequence, List\n",
        "from langchain_core.pydantic_v1 import BaseModel, Field\n",
        "import operator\n",
        "from langchain_mistralai.chat_models import ChatMistralAI\n",
        "from langchain_anthropic import ChatAnthropic\n",
        "from langchain_openai import ChatOpenAI\n",
        "from langgraph.constants import Send\n",
        "from langchain_community.document_loaders import AsyncHtmlLoader\n",
        "from langchain_community.document_transformers import Html2TextTransformer\n",
        "\n",
        "model = ChatMistralAI(api_key=os.environ.get('MISTRAL_API_KEY'),model=\"mistral-large-latest\",temperature=0)\n",
        "#model = ChatAnthropic(temperature=0, model_name=\"claude-3-haiku-20240307\", max_tokens=4096)\n",
        "final_model = ChatAnthropic(temperature=0, model_name=\"claude-3-5-sonnet-20240620\", max_tokens=4096)\n",
        "#model = ChatOpenAI(model=\"gpt-4o-mini\",temperature=0, streaming=True)\n",
        "\n",
        "class Queries(BaseModel):\n",
        "    \"\"\"List of search queries\"\"\"\n",
        "    queries: List[str] = Field(\n",
        "        description=\"List of the generated search queries\"\n",
        "    )\n",
        "\n",
        "class SummaryState(TypedDict):\n",
        "    content: str\n",
        "    query: str\n",
        "\n",
        "class OverallState(TypedDict):\n",
        "    messages: Annotated[Sequence[BaseMessage], operator.add]\n",
        "    next: str\n",
        "    search_queries: list[str]\n",
        "    search_results: list[str]\n",
        "    page_content: list[str]\n",
        "    page_summaries: Annotated[list, operator.add]\n",
        "\n",
        "    @classmethod\n",
        "    def additional_questions_node(cls,state):\n",
        "      messages = state['messages']\n",
        "      last_message = messages[-1]\n",
        "      prompt = ChatPromptTemplate.from_messages(\n",
        "            [\n",
        "                (\n",
        "                    \"system\",\n",
        "                    ADDITIONAL_QUESTION_PROMPT,\n",
        "                ),\n",
        "                MessagesPlaceholder(variable_name=\"messages\"),\n",
        "                MessagesPlaceholder(variable_name=\"agent_scratchpad\")\n",
        "            ]\n",
        "        )\n",
        "      chain = prompt | model\n",
        "      result = chain.invoke({\n",
        "            \"messages\": messages,\n",
        "            \"agent_scratchpad\": []  # Add an empty list for agent_scratchpad if not used\n",
        "        })\n",
        "      print(result.content)\n",
        "      return {\"next\":result.content}\n",
        "\n",
        "    @classmethod\n",
        "    def where_to_go(cls,state):\n",
        "      next = state['next']\n",
        "      if \"NO\" in next:\n",
        "        return \"proceed\"\n",
        "      else:\n",
        "        return \"ask\"\n",
        "\n",
        "    @classmethod\n",
        "    def ask_node(cls,state):\n",
        "      messages = state['messages']\n",
        "      user_question = messages[0]\n",
        "      prompt = f\"Ask any additional questions that are required to answer the question: {user_question.content}\"\n",
        "      question = model.invoke(prompt)\n",
        "      return {\"messages\":[question]}\n",
        "\n",
        "    @classmethod\n",
        "    def new_question_node(cls,state):\n",
        "      messages = state['messages']\n",
        "      initial_question = messages[0]\n",
        "      prompt = f\"Reframe the initial question: {initial_question} based on the messages : {messages}\"\n",
        "      response = model.invoke(prompt)\n",
        "      new_question = HumanMessage(content=response.content)\n",
        "      return {\"messages\":[new_question]}\n",
        "\n",
        "    @classmethod\n",
        "    def search_query_node(cls,state):\n",
        "      messages = state['messages']\n",
        "      last_message = messages[-1]\n",
        "\n",
        "      prompt = ChatPromptTemplate.from_messages(\n",
        "            [\n",
        "                (\n",
        "                    \"system\",\n",
        "                    SEARCH_QUERY_PROMPT,\n",
        "                ),\n",
        "                MessagesPlaceholder(variable_name=\"messages\"),\n",
        "            ]\n",
        "        )\n",
        "      chain = prompt | model.with_structured_output(Queries)\n",
        "      result = chain.invoke(messages)\n",
        "      queries = result.queries\n",
        "      return {\"search_queries\":queries}\n",
        "\n",
        "    @classmethod\n",
        "    def search_results_node(cls,state):\n",
        "      queries = state['search_queries']\n",
        "      results = asyncio.run(search(queries))\n",
        "      return {\"search_results\":results}\n",
        "\n",
        "    @classmethod\n",
        "    def web_scape_node(cls,state):\n",
        "      search_results = state['search_results']\n",
        "      urls = [result['href'] for search_result in search_results for result in search_result]\n",
        "      #print(urls)\n",
        "      loader = AsyncHtmlLoader(urls)\n",
        "      docs = loader.load()\n",
        "      html2text = Html2TextTransformer()\n",
        "      docs_transformed = html2text.transform_documents(docs)\n",
        "      return {\"page_content\":docs_transformed}\n",
        "\n",
        "    @classmethod\n",
        "    def generate_summary(cls,state: SummaryState):\n",
        "      content = state['content'].page_content\n",
        "      source = state['content'].metadata['source']\n",
        "      query = state['query']\n",
        "      prompt = f\"Summarize the following content to answer the question: {query}, mention the source: {source}   \\n\\n <content> {content} </content>\"\n",
        "      page_summary = model.invoke(prompt)\n",
        "      return {\"page_summaries\":[page_summary.content]}\n",
        "\n",
        "    @classmethod\n",
        "    def continue_to_summarise_node(cls,state):\n",
        "      return [Send(\"Generate Summary\", {\"content\": p, \"query\": state['messages'][0].content}) for p in state['page_content']]\n",
        "\n",
        "    @classmethod\n",
        "    def final_result_node(cls,state):\n",
        "      messages = state['messages']\n",
        "      question = messages[-1]\n",
        "      context = state['page_summaries']\n",
        "      prompt = ChatPromptTemplate.from_messages(\n",
        "            [\n",
        "                (\n",
        "                    \"system\",\n",
        "                    FINAL_NODE_SYSTEM_PROMPT,\n",
        "                ),\n",
        "                (\n",
        "                    \"human\",\n",
        "                    FINAL_NODE_PROMPT,\n",
        "                ),\n",
        "            ]\n",
        "        )\n",
        "      input = {\"question\":messages[-1],\"context\":context}\n",
        "      formatted_prompt = prompt.format_messages(**input)\n",
        "      response = final_model.invoke(formatted_prompt)\n",
        "      return {\"messages\":[response]}"
      ],
      "metadata": {
        "id": "ubBu2ZZXH5NE"
      },
      "execution_count": 105,
      "outputs": []
    },
    {
      "cell_type": "code",
      "source": [
        "from langgraph.checkpoint.memory import MemorySaver\n",
        "\n",
        "memory = MemorySaver()"
      ],
      "metadata": {
        "id": "rsQYde64I8nA"
      },
      "execution_count": 106,
      "outputs": []
    },
    {
      "cell_type": "code",
      "source": [
        "#graph\n",
        "from langgraph.graph import StateGraph, END\n",
        "perplexity_clone = StateGraph(OverallState)\n",
        "perplexity_clone.add_node('Additional Questions',OverallState.additional_questions_node)\n",
        "perplexity_clone.add_node('Ask',OverallState.ask_node)\n",
        "perplexity_clone.add_node('New Question',OverallState.new_question_node)\n",
        "perplexity_clone.add_node('Query Generator',OverallState.search_query_node)\n",
        "perplexity_clone.add_node('Search Results',OverallState.search_results_node)\n",
        "perplexity_clone.add_node('Web Scraper',OverallState.web_scape_node)\n",
        "perplexity_clone.add_node('Generate Summary',OverallState.generate_summary)\n",
        "perplexity_clone.add_node('Final Result',OverallState.final_result_node)\n",
        "\n",
        "perplexity_clone.set_entry_point('Additional Questions')\n",
        "perplexity_clone.set_finish_point('Final Result')\n",
        "\n",
        "perplexity_clone.add_conditional_edges('Additional Questions',OverallState.where_to_go,{'proceed':'Query Generator','ask':'Ask'})\n",
        "perplexity_clone.add_edge('Ask','New Question')\n",
        "perplexity_clone.add_edge('New Question','Query Generator')\n",
        "perplexity_clone.add_edge('Query Generator','Search Results')\n",
        "perplexity_clone.add_edge('Search Results','Web Scraper')\n",
        "perplexity_clone.add_conditional_edges('Web Scraper', OverallState.continue_to_summarise_node,['Generate Summary'])\n",
        "perplexity_clone.add_edge('Generate Summary','Final Result')\n",
        "\n",
        "perplexity_clone_graph = perplexity_clone.compile(checkpointer=memory, interrupt_after=[\"Ask\"])"
      ],
      "metadata": {
        "id": "2lzwWl7GICrx"
      },
      "execution_count": 107,
      "outputs": []
    },
    {
      "cell_type": "code",
      "source": [
        "from IPython.display import Image, display\n",
        "\n",
        "try:\n",
        "    display(Image(perplexity_clone_graph.get_graph().draw_mermaid_png()))\n",
        "except Exception:\n",
        "    # This requires some extra dependencies and is optional\n",
        "    pass"
      ],
      "metadata": {
        "colab": {
          "base_uri": "https://localhost:8080/",
          "height": 900
        },
        "id": "3SgM7m03IExY",
        "outputId": "bf863734-cf9b-4719-dd25-b53f12068a2b"
      },
      "execution_count": 108,
      "outputs": [
        {
          "output_type": "display_data",
          "data": {
            "image/jpeg": "[encoded data removed]",
            "text/plain": [
              "<IPython.core.display.Image object>"
            ]
          },
          "metadata": {}
        }
      ]
    },
    {
      "cell_type": "code",
      "source": [
        "import random\n",
        "import string\n",
        "\n",
        "def generate_random_alphanumeric(length=4):\n",
        "  characters = string.ascii_letters + string.digits\n",
        "  result = ''.join(random.choice(characters) for i in range(length))\n",
        "  return result\n",
        "\n",
        "query_id = generate_random_alphanumeric()\n",
        "print(query_id)"
      ],
      "metadata": {
        "colab": {
          "base_uri": "https://localhost:8080/"
        },
        "id": "qABRgKReII_N",
        "outputId": "c074cc5c-c8c3-4e55-fe1a-8555a17d1c00"
      },
      "execution_count": 132,
      "outputs": [
        {
          "output_type": "stream",
          "name": "stdout",
          "text": [
            "kAcw\n"
          ]
        }
      ]
    },
    {
      "cell_type": "code",
      "source": [
        "config = {\"configurable\": {\"thread_id\": f'{query_id}'},\"recursion_limit\": 20}"
      ],
      "metadata": {
        "id": "OccV_bDcIhsK"
      },
      "execution_count": 133,
      "outputs": []
    },
    {
      "cell_type": "code",
      "source": [
        "from langchain_core.messages import BaseMessage, HumanMessage\n",
        "inputs = {\n",
        "    \"messages\": [HumanMessage(content=\"What is the score\")],\n",
        "}"
      ],
      "metadata": {
        "id": "S9_pCTgeIr4Q"
      },
      "execution_count": 134,
      "outputs": []
    },
    {
      "cell_type": "code",
      "source": [
        "outputs = perplexity_clone_graph.invoke(inputs, config)"
      ],
      "metadata": {
        "colab": {
          "base_uri": "https://localhost:8080/"
        },
        "id": "LNpTyML3kSsU",
        "outputId": "5b62461c-1c49-4494-b4e4-33348079b63d"
      },
      "execution_count": 135,
      "outputs": [
        {
          "output_type": "stream",
          "name": "stdout",
          "text": [
            "<scratchpad>\n",
            "1. Is the core question or request clearly stated?\n",
            "   - The message \"What is the score\" is a clear request for information about a score.\n",
            "\n",
            "2. Are all necessary details provided to understand the context?\n",
            "   - The message does not specify which score is being referred to (e.g., a specific game, match, or event).\n",
            "\n",
            "3. Would additional information significantly change or improve the response?\n",
            "   - Yes, knowing the context (e.g., which game or event) would significantly improve the response, as it would allow for a precise and relevant answer.\n",
            "\n",
            "4. Is the missing information essential or helpful?\n",
            "   - The missing information is essential to provide an accurate and relevant response.\n",
            "\n",
            "Given these points, additional input is necessary to understand which score the user is asking about.\n",
            "</scratchpad>\n",
            "\n",
            "<answer>\n",
            "YES: Additional input is required.\n",
            "Justification: The message does not specify which score is being referred to, and this information is essential to provide an accurate and relevant response.\n",
            "</answer>\n"
          ]
        }
      ]
    },
    {
      "cell_type": "code",
      "source": [
        "from IPython.display import Markdown, display\n",
        "display(Markdown(outputs['messages'][-1].content))"
      ],
      "metadata": {
        "colab": {
          "base_uri": "https://localhost:8080/",
          "height": 144
        },
        "id": "GLHBOHBlk1XS",
        "outputId": "2f3df0e5-5cf0-4318-9b56-7c2b6725cc4e"
      },
      "execution_count": 136,
      "outputs": [
        {
          "output_type": "display_data",
          "data": {
            "text/plain": [
              "<IPython.core.display.Markdown object>"
            ],
            "text/markdown": "To provide you with the score, I need more context. Could you please specify:\n\n1. What game or event are you referring to?\n2. Who are the teams or players involved?\n3. When did the game or event take place?\n\nWith this information, I can help you find the score you're looking for."
          },
          "metadata": {}
        }
      ]
    },
    {
      "cell_type": "code",
      "source": [
        "# First, lets get the current state\n",
        "current_state = perplexity_clone_graph.get_state(config)\n",
        "print(current_state)"
      ],
      "metadata": {
        "colab": {
          "base_uri": "https://localhost:8080/"
        },
        "id": "vUaQPmn5bMz8",
        "outputId": "b26df89f-3043-4f8d-9931-fdfe842134a5"
      },
      "execution_count": 137,
      "outputs": [
        {
          "output_type": "stream",
          "name": "stdout",
          "text": [
            "StateSnapshot(values={'messages': [HumanMessage(content='What is the score'), AIMessage(content=\"To provide you with the score, I need more context. Could you please specify:\\n\\n1. What game or event are you referring to?\\n2. Who are the teams or players involved?\\n3. When did the game or event take place?\\n\\nWith this information, I can help you find the score you're looking for.\", response_metadata={'token_usage': {'prompt_tokens': 19, 'total_tokens': 91, 'completion_tokens': 72}, 'model': 'mistral-large-latest', 'finish_reason': 'stop'}, id='run-5bfa5a8d-86ca-4786-adcf-8817909da9ca-0', usage_metadata={'input_tokens': 19, 'output_tokens': 72, 'total_tokens': 91})], 'next': '<scratchpad>\\n1. Is the core question or request clearly stated?\\n   - The message \"What is the score\" is a clear request for information about a score.\\n\\n2. Are all necessary details provided to understand the context?\\n   - The message does not specify which score is being referred to (e.g., a specific game, match, or event).\\n\\n3. Would additional information significantly change or improve the response?\\n   - Yes, knowing the context (e.g., which game or event) would significantly improve the response, as it would allow for a precise and relevant answer.\\n\\n4. Is the missing information essential or helpful?\\n   - The missing information is essential to provide an accurate and relevant response.\\n\\nGiven these points, additional input is necessary to understand which score the user is asking about.\\n</scratchpad>\\n\\n<answer>\\nYES: Additional input is required.\\nJustification: The message does not specify which score is being referred to, and this information is essential to provide an accurate and relevant response.\\n</answer>', 'page_summaries': []}, next=('New Question',), config={'configurable': {'thread_id': 'kAcw', 'checkpoint_ns': '', 'checkpoint_id': '1ef5e259-391c-6fab-8002-34434a7e2452'}}, metadata={'source': 'loop', 'writes': {'Ask': {'messages': [AIMessage(content=\"To provide you with the score, I need more context. Could you please specify:\\n\\n1. What game or event are you referring to?\\n2. Who are the teams or players involved?\\n3. When did the game or event take place?\\n\\nWith this information, I can help you find the score you're looking for.\", response_metadata={'token_usage': {'prompt_tokens': 19, 'total_tokens': 91, 'completion_tokens': 72}, 'model': 'mistral-large-latest', 'finish_reason': 'stop'}, id='run-5bfa5a8d-86ca-4786-adcf-8817909da9ca-0', usage_metadata={'input_tokens': 19, 'output_tokens': 72, 'total_tokens': 91})]}}, 'step': 2}, created_at='2024-08-19T12:21:35.438152+00:00', parent_config={'configurable': {'thread_id': 'kAcw', 'checkpoint_ns': '', 'checkpoint_id': '1ef5e259-2251-6a47-8001-b251bd4b87cd'}})\n"
          ]
        }
      ]
    },
    {
      "cell_type": "code",
      "source": [
        "last_message = current_state.values[\"messages\"][-1]\n",
        "print(last_message.content)"
      ],
      "metadata": {
        "colab": {
          "base_uri": "https://localhost:8080/"
        },
        "id": "pPeoHv6Abj1G",
        "outputId": "ba27e237-5d56-4480-a653-eb2940224edc"
      },
      "execution_count": 138,
      "outputs": [
        {
          "output_type": "stream",
          "name": "stdout",
          "text": [
            "To provide you with the score, I need more context. Could you please specify:\n",
            "\n",
            "1. What game or event are you referring to?\n",
            "2. Who are the teams or players involved?\n",
            "3. When did the game or event take place?\n",
            "\n",
            "With this information, I can help you find the score you're looking for.\n"
          ]
        }
      ]
    },
    {
      "cell_type": "code",
      "source": [
        "input_message = [HumanMessage(content=\"I am referring to the recent cricket match between India and Sri Lanka\")]"
      ],
      "metadata": {
        "id": "ndiLSMHvgqP_"
      },
      "execution_count": 139,
      "outputs": []
    },
    {
      "cell_type": "code",
      "source": [
        "perplexity_clone_graph.update_state(\n",
        "    # Which state to update\n",
        "    config,\n",
        "    # The updated values to provide. The messages in our `State` are \"append-only\", meaning this will be appended\n",
        "    # to the existing state. We will review how to update existing messages in the next section!\n",
        "    {\"messages\": input_message},\n",
        ")"
      ],
      "metadata": {
        "colab": {
          "base_uri": "https://localhost:8080/"
        },
        "id": "q9SC3Oakgk8D",
        "outputId": "cac1469f-c12a-4ca8-ffcb-d98c5985c7ea"
      },
      "execution_count": 140,
      "outputs": [
        {
          "output_type": "execute_result",
          "data": {
            "text/plain": [
              "{'configurable': {'thread_id': 'kAcw',\n",
              "  'checkpoint_ns': '',\n",
              "  'checkpoint_id': '1ef5e259-f93b-686f-8003-13979dc8aca4'}}"
            ]
          },
          "metadata": {},
          "execution_count": 140
        }
      ]
    },
    {
      "cell_type": "code",
      "source": [
        "outputs = perplexity_clone_graph.invoke(None, config)"
      ],
      "metadata": {
        "colab": {
          "base_uri": "https://localhost:8080/"
        },
        "id": "I5-kmQvvk7iY",
        "outputId": "b60a6c7b-e116-4145-b042-69646a7eb7f2"
      },
      "execution_count": 141,
      "outputs": [
        {
          "output_type": "stream",
          "name": "stderr",
          "text": [
            "Fetching pages: 100%|##########| 2/2 [00:00<00:00,  5.22it/s]\n"
          ]
        }
      ]
    },
    {
      "cell_type": "code",
      "source": [
        "from IPython.display import Markdown, display\n",
        "display(Markdown(outputs['messages'][-1].content))"
      ],
      "metadata": {
        "colab": {
          "base_uri": "https://localhost:8080/",
          "height": 249
        },
        "id": "jHPNbRQTlXB_",
        "outputId": "77dc586d-7504-4488-eda3-9b6bf2586085"
      },
      "execution_count": 142,
      "outputs": [
        {
          "output_type": "display_data",
          "data": {
            "text/plain": [
              "<IPython.core.display.Markdown object>"
            ],
            "text/markdown": "Based on the provided context, there are two recent cricket matches between India and Sri Lanka mentioned. I'll provide information on both:\n\n1. ICC Cricket World Cup 2023 match:\n   - India: 357/8\n   - Sri Lanka: 55 (19.4/50 ov, T:358)\n   - Result: India won by 302 runs\n   Source: [ESPNcricinfo](https://www.espncricinfo.com/series/icc-cricket-world-cup-2023-24-1367856/india-vs-sri-lanka-33rd-match-1384424/live-match-blog)\n\n2. 1st T20I match on July 27, 2024:\n   - India: 213/7\n   - Sri Lanka: 170 (19.2/20 ov, T:214)\n   - Result: India won by 43 runs\n   Source: [ESPNcricinfo](https://www.espncricinfo.com/series/india-in-sri-lanka-2024-1442984/sri-lanka-vs-india-1st-t20i-1442987/match-report)\n\nBoth matches resulted in victories for India, with the World Cup match being a more significant win in terms of the run difference."
          },
          "metadata": {}
        }
      ]
    }
  ]
}